{
 "cells": [
  {
   "cell_type": "markdown",
   "id": "26ef6f75",
   "metadata": {},
   "source": [
    "### 1 - Polynomial Features"
   ]
  },
  {
   "cell_type": "markdown",
   "id": "a45ebb5c",
   "metadata": {},
   "source": [
    "📌 Generating polynomial combinations of features to capture non-linear relationships."
   ]
  },
  {
   "cell_type": "markdown",
   "id": "ece92423",
   "metadata": {},
   "source": [
    "### 2 - Logarithmic Transformation"
   ]
  },
  {
   "cell_type": "markdown",
   "id": "5a776e21",
   "metadata": {},
   "source": [
    "📌 Transforming skewed distributions to a more normal shape."
   ]
  },
  {
   "cell_type": "markdown",
   "id": "3956e21f",
   "metadata": {},
   "source": [
    "### 3 - Box-Cox Transformation"
   ]
  },
  {
   "cell_type": "markdown",
   "id": "3bd2a6cd",
   "metadata": {},
   "source": [
    "📌 Transforming non-normal distributions to a normal distribution."
   ]
  }
 ],
 "metadata": {
  "kernelspec": {
   "display_name": "Python 3 (ipykernel)",
   "language": "python",
   "name": "python3"
  },
  "language_info": {
   "codemirror_mode": {
    "name": "ipython",
    "version": 3
   },
   "file_extension": ".py",
   "mimetype": "text/x-python",
   "name": "python",
   "nbconvert_exporter": "python",
   "pygments_lexer": "ipython3",
   "version": "3.11.5"
  }
 },
 "nbformat": 4,
 "nbformat_minor": 5
}
