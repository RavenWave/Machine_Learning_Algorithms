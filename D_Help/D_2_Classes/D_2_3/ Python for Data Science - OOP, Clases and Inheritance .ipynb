{
 "cells": [
  {
   "cell_type": "markdown",
   "id": "e1e61664",
   "metadata": {},
   "source": [
    "# Classes\n",
    "- Classes are objects with defined properties and methods."
   ]
  },
  {
   "cell_type": "code",
   "execution_count": 14,
   "id": "0aa750fc",
   "metadata": {},
   "outputs": [],
   "source": [
    "# Classes as boilerplates for objects\n",
    "class Person():\n",
    "    \n",
    "    # The method that runs as soon as you create a class\n",
    "    # __init__ a build-in function for classes\n",
    "    def __init__(self,  name, age, color):\n",
    "        # Create some attributes for our person class\n",
    "        self.name = name\n",
    "        self.age = age\n",
    "        self.color = color       \n",
    "        \n",
    "    # Date of birth method\n",
    "    def year_of_birth(self):\n",
    "        return 2024-self.age\n",
    "    \n",
    "    # Projected age\n",
    "    def projected_age(self, years=5):\n",
    "        return self.age + years"
   ]
  },
  {
   "cell_type": "code",
   "execution_count": 19,
   "id": "0abcc1ac",
   "metadata": {},
   "outputs": [],
   "source": [
    "new_person = Person('Emre', 28, 'blue')"
   ]
  },
  {
   "cell_type": "code",
   "execution_count": 20,
   "id": "f700076c",
   "metadata": {},
   "outputs": [
    {
     "data": {
      "text/plain": [
       "'Emre'"
      ]
     },
     "execution_count": 20,
     "metadata": {},
     "output_type": "execute_result"
    }
   ],
   "source": [
    "# Accessing a class attribute\n",
    "new_person.name"
   ]
  },
  {
   "cell_type": "code",
   "execution_count": 21,
   "id": "a7e3e36f",
   "metadata": {},
   "outputs": [
    {
     "data": {
      "text/plain": [
       "1996"
      ]
     },
     "execution_count": 21,
     "metadata": {},
     "output_type": "execute_result"
    }
   ],
   "source": [
    "# Run a method\n",
    "new_person.year_of_birth()"
   ]
  },
  {
   "cell_type": "code",
   "execution_count": 22,
   "id": "582876c1",
   "metadata": {},
   "outputs": [
    {
     "data": {
      "text/plain": [
       "33"
      ]
     },
     "execution_count": 22,
     "metadata": {},
     "output_type": "execute_result"
    }
   ],
   "source": [
    "# Run a method\n",
    "new_person.projected_age()"
   ]
  },
  {
   "cell_type": "code",
   "execution_count": 23,
   "id": "9232f528",
   "metadata": {},
   "outputs": [
    {
     "data": {
      "text/plain": [
       "38"
      ]
     },
     "execution_count": 23,
     "metadata": {},
     "output_type": "execute_result"
    }
   ],
   "source": [
    "# Run a method with a keyword argument\n",
    "new_person.projected_age(years=10)"
   ]
  },
  {
   "cell_type": "markdown",
   "id": "267ea439",
   "metadata": {},
   "source": [
    "# Inheritance\n",
    "- PARENT is the class passing down attributes and methods = PERSON\n",
    "- CHILD is the class inheriting the methods and attributes = ASTRONAUT"
   ]
  },
  {
   "cell_type": "code",
   "execution_count": 37,
   "id": "41ee0694",
   "metadata": {},
   "outputs": [],
   "source": [
    "# Create a child class\n",
    "class Astronaut(Person):\n",
    "    \n",
    "    # Define initialization function\n",
    "    def __init__(self, name, age, color, mission_lenght_in_months):\n",
    "        # This is what gives us inheritance - SUPER METHOD\n",
    "        super().__init__(name, age, color)\n",
    "        self.mission_lenght_in_months = mission_lenght_in_months\n",
    "    \n",
    "    # Method for calculatin age on return\n",
    "    def age_on_return(self):\n",
    "        return self.projected_age(years=int(self.mission_lenght_in_months/12))"
   ]
  },
  {
   "cell_type": "code",
   "execution_count": 38,
   "id": "e351ff72",
   "metadata": {},
   "outputs": [],
   "source": [
    "new_astronaut = Astronaut('Nick', 99, 'purple', 48)"
   ]
  },
  {
   "cell_type": "code",
   "execution_count": 39,
   "id": "628a3f64",
   "metadata": {},
   "outputs": [
    {
     "data": {
      "text/plain": [
       "99"
      ]
     },
     "execution_count": 39,
     "metadata": {},
     "output_type": "execute_result"
    }
   ],
   "source": [
    "# Access parent like attribute\n",
    "new_astronaut.age"
   ]
  },
  {
   "cell_type": "code",
   "execution_count": 40,
   "id": "4ab89392",
   "metadata": {},
   "outputs": [
    {
     "data": {
      "text/plain": [
       "1925"
      ]
     },
     "execution_count": 40,
     "metadata": {},
     "output_type": "execute_result"
    }
   ],
   "source": [
    "new_astronaut.year_of_birth()"
   ]
  },
  {
   "cell_type": "code",
   "execution_count": 41,
   "id": "19b2a71f",
   "metadata": {},
   "outputs": [
    {
     "data": {
      "text/plain": [
       "103"
      ]
     },
     "execution_count": 41,
     "metadata": {},
     "output_type": "execute_result"
    }
   ],
   "source": [
    "new_astronaut.age_on_return()"
   ]
  }
 ],
 "metadata": {
  "kernelspec": {
   "display_name": "Python 3 (ipykernel)",
   "language": "python",
   "name": "python3"
  },
  "language_info": {
   "codemirror_mode": {
    "name": "ipython",
    "version": 3
   },
   "file_extension": ".py",
   "mimetype": "text/x-python",
   "name": "python",
   "nbconvert_exporter": "python",
   "pygments_lexer": "ipython3",
   "version": "3.11.5"
  }
 },
 "nbformat": 4,
 "nbformat_minor": 5
}
