{
 "cells": [
  {
   "cell_type": "markdown",
   "id": "7468a30b",
   "metadata": {},
   "source": [
    "### Step 1"
   ]
  },
  {
   "cell_type": "code",
   "execution_count": 3,
   "id": "0e4170af",
   "metadata": {},
   "outputs": [],
   "source": [
    "class Employee:\n",
    "    \n",
    "    def __init__(self, first, last):\n",
    "        self.first = first \n",
    "        self.last = last     \n",
    "        self.email = first + '.' + last + '@email.com'   \n",
    "            \n",
    "    def fullname(self): \n",
    "        return '{} {}'.format(self.first, self.last)"
   ]
  },
  {
   "cell_type": "code",
   "execution_count": 4,
   "id": "013b97ae",
   "metadata": {},
   "outputs": [],
   "source": [
    "emp_1 = Employee('John', 'Smith')"
   ]
  },
  {
   "cell_type": "code",
   "execution_count": 6,
   "id": "e39d46e6",
   "metadata": {},
   "outputs": [
    {
     "name": "stdout",
     "output_type": "stream",
     "text": [
      "John\n",
      "John.Smith@email.com\n",
      "John Smith\n"
     ]
    }
   ],
   "source": [
    "print(emp_1.first)\n",
    "print(emp_1.email)\n",
    "print(emp_1.fullname())"
   ]
  },
  {
   "cell_type": "code",
   "execution_count": 7,
   "id": "ab876d38",
   "metadata": {},
   "outputs": [
    {
     "name": "stdout",
     "output_type": "stream",
     "text": [
      "Jim\n",
      "John.Smith@email.com\n",
      "Jim Smith\n"
     ]
    }
   ],
   "source": [
    "emp_1.first = 'Jim'\n",
    "\n",
    "print(emp_1.first)\n",
    "print(emp_1.email)\n",
    "print(emp_1.fullname())"
   ]
  },
  {
   "cell_type": "markdown",
   "id": "205d2843",
   "metadata": {},
   "source": [
    "### Step 2 (@property)"
   ]
  },
  {
   "cell_type": "code",
   "execution_count": 17,
   "id": "ddc83a27",
   "metadata": {},
   "outputs": [],
   "source": [
    "class Employee:\n",
    "    \n",
    "    def __init__(self, first, last):\n",
    "        self.first = first \n",
    "        self.last = last     \n",
    "    \n",
    "    @property\n",
    "    def email(self): \n",
    "        return '{}.{}@email.com'.format(self.first, self.last)        \n",
    "    \n",
    "    @property\n",
    "    def fullname(self): \n",
    "        return '{} {}'.format(self.first, self.last)"
   ]
  },
  {
   "cell_type": "code",
   "execution_count": 18,
   "id": "693150a1",
   "metadata": {},
   "outputs": [],
   "source": [
    "emp_1 = Employee('John', 'Smith')"
   ]
  },
  {
   "cell_type": "code",
   "execution_count": 19,
   "id": "dd448605",
   "metadata": {},
   "outputs": [
    {
     "name": "stdout",
     "output_type": "stream",
     "text": [
      "Jim\n",
      "Jim.Smith@email.com\n",
      "Jim Smith\n"
     ]
    }
   ],
   "source": [
    "emp_1.first = 'Jim'\n",
    "\n",
    "print(emp_1.first)\n",
    "print(emp_1.email)\n",
    "print(emp_1.fullname)"
   ]
  },
  {
   "cell_type": "code",
   "execution_count": null,
   "id": "0bc39fe0",
   "metadata": {},
   "outputs": [],
   "source": [
    "# emp_1.fullname = 'Corey Schafer' --> We cannot this !!"
   ]
  },
  {
   "cell_type": "markdown",
   "id": "58b2b5cc",
   "metadata": {},
   "source": [
    "### Step 3 (.setter)"
   ]
  },
  {
   "cell_type": "code",
   "execution_count": 20,
   "id": "eb60aa6f",
   "metadata": {},
   "outputs": [],
   "source": [
    "class Employee:\n",
    "    \n",
    "    def __init__(self, first, last):\n",
    "        self.first = first \n",
    "        self.last = last     \n",
    "    \n",
    "    @property\n",
    "    def email(self): \n",
    "        return '{}.{}@email.com'.format(self.first, self.last)        \n",
    "    \n",
    "    @property\n",
    "    def fullname(self): \n",
    "        return '{} {}'.format(self.first, self.last)\n",
    "    \n",
    "    @fullname.setter\n",
    "    def fullname(self, name):\n",
    "        first, last = name.split(' ')\n",
    "        self.first = first\n",
    "        self.last = last        "
   ]
  },
  {
   "cell_type": "code",
   "execution_count": 21,
   "id": "a9f53e38",
   "metadata": {},
   "outputs": [],
   "source": [
    "emp_1 = Employee('John', 'Smith')"
   ]
  },
  {
   "cell_type": "code",
   "execution_count": 22,
   "id": "3cef8288",
   "metadata": {},
   "outputs": [
    {
     "name": "stdout",
     "output_type": "stream",
     "text": [
      "Corey\n",
      "Corey.Schafer@email.com\n",
      "Corey Schafer\n"
     ]
    }
   ],
   "source": [
    "emp_1.fullname = 'Corey Schafer'\n",
    "\n",
    "print(emp_1.first)\n",
    "print(emp_1.email)\n",
    "print(emp_1.fullname)"
   ]
  },
  {
   "cell_type": "markdown",
   "id": "444659f1",
   "metadata": {},
   "source": [
    "### Step 3 (.deleter)"
   ]
  },
  {
   "cell_type": "code",
   "execution_count": 23,
   "id": "93b1d0e4",
   "metadata": {},
   "outputs": [],
   "source": [
    "class Employee:\n",
    "    \n",
    "    def __init__(self, first, last):\n",
    "        self.first = first \n",
    "        self.last = last     \n",
    "    \n",
    "    @property\n",
    "    def email(self): \n",
    "        return '{}.{}@email.com'.format(self.first, self.last)        \n",
    "    \n",
    "    @property\n",
    "    def fullname(self): \n",
    "        return '{} {}'.format(self.first, self.last)\n",
    "    \n",
    "    @fullname.setter\n",
    "    def fullname(self, name):\n",
    "        first, last = name.split(' ')\n",
    "        self.first = first\n",
    "        self.last = last   \n",
    "        \n",
    "    @fullname.deleter\n",
    "    def fullname(self):\n",
    "        print('Delete Name!')\n",
    "        self.first = None\n",
    "        self.last = None        "
   ]
  },
  {
   "cell_type": "code",
   "execution_count": 24,
   "id": "b6d5a1ea",
   "metadata": {},
   "outputs": [
    {
     "name": "stdout",
     "output_type": "stream",
     "text": [
      "Delete Name!\n",
      "None\n",
      "None.None@email.com\n",
      "None None\n"
     ]
    }
   ],
   "source": [
    "emp_1 = Employee('John', 'Smith')\n",
    "\n",
    "del emp_1.fullname\n",
    "\n",
    "print(emp_1.first)\n",
    "print(emp_1.email)\n",
    "print(emp_1.fullname)"
   ]
  }
 ],
 "metadata": {
  "kernelspec": {
   "display_name": "Python 3 (ipykernel)",
   "language": "python",
   "name": "python3"
  },
  "language_info": {
   "codemirror_mode": {
    "name": "ipython",
    "version": 3
   },
   "file_extension": ".py",
   "mimetype": "text/x-python",
   "name": "python",
   "nbconvert_exporter": "python",
   "pygments_lexer": "ipython3",
   "version": "3.11.5"
  }
 },
 "nbformat": 4,
 "nbformat_minor": 5
}
