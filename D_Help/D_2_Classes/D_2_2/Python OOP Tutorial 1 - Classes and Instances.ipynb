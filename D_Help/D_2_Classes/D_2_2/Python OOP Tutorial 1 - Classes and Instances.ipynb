{
 "cells": [
  {
   "cell_type": "markdown",
   "id": "d6ec40fe",
   "metadata": {},
   "source": [
    "### Step 1"
   ]
  },
  {
   "cell_type": "code",
   "execution_count": 8,
   "id": "f8c73bd8",
   "metadata": {},
   "outputs": [],
   "source": [
    "class Employee:\n",
    "    \n",
    "    def __init__(self, first, last, pay):\n",
    "        self.first = first\n",
    "        self.last = last        \n",
    "        self.pay = pay         \n",
    "        self.email = first + '.' + last + '@company.com'     \n",
    "        \n",
    "emp_1 = Employee('Corey', 'Schafer', 50_000)\n",
    "emp_2 = Employee('Test', 'User', 60_000)"
   ]
  },
  {
   "cell_type": "code",
   "execution_count": 9,
   "id": "eaef5d79",
   "metadata": {},
   "outputs": [
    {
     "name": "stdout",
     "output_type": "stream",
     "text": [
      "First name of Employee_1:  Corey\n",
      "Last name of Employee_1:  Schafer\n",
      "Paynment of Employee_1:  50000\n",
      "Email of Employee_1:  Corey.Schafer@company.com\n",
      "------------------------------------------------------------\n",
      "First name of Employee_2:  Test\n",
      "Last name of Employee_2:  User\n",
      "Paynment of Employee_2:  60000\n",
      "Email of Employee_2:  Test.User@company.com\n"
     ]
    }
   ],
   "source": [
    "print('First name of Employee_1: ', emp_1.first)\n",
    "print('Last name of Employee_1: ', emp_1.last)\n",
    "print('Paynment of Employee_1: ', emp_1.pay)\n",
    "print('Email of Employee_1: ', emp_1.email)\n",
    "print('-' * 60)\n",
    "print('First name of Employee_2: ', emp_2.first)\n",
    "print('Last name of Employee_2: ', emp_2.last)\n",
    "print('Paynment of Employee_2: ', emp_2.pay)\n",
    "print('Email of Employee_2: ', emp_2.email)"
   ]
  },
  {
   "cell_type": "code",
   "execution_count": 11,
   "id": "9dfd0e5f",
   "metadata": {},
   "outputs": [
    {
     "name": "stdout",
     "output_type": "stream",
     "text": [
      "Corey Schafer\n",
      "Test User\n"
     ]
    }
   ],
   "source": [
    "print('{} {}'.format(emp_1.first, emp_1.last))\n",
    "print('{} {}'.format(emp_2.first, emp_2.last))"
   ]
  },
  {
   "cell_type": "markdown",
   "id": "d52fde2b",
   "metadata": {},
   "source": [
    "### Step 2"
   ]
  },
  {
   "cell_type": "code",
   "execution_count": 13,
   "id": "919a6de5",
   "metadata": {},
   "outputs": [],
   "source": [
    "class Employee:\n",
    "    \n",
    "    def __init__(self, first, last, pay):\n",
    "        self.first = first\n",
    "        self.last = last        \n",
    "        self.pay = pay         \n",
    "        self.email = first + '.' + last + '@company.com'   \n",
    "    \n",
    "    def fullname(self):\n",
    "        return '{} {}'.format(self.first, self.last)\n",
    "    \n",
    "emp_1 = Employee('Corey', 'Schafer', 50_000)\n",
    "emp_2 = Employee('Test', 'User', 60_000)"
   ]
  },
  {
   "cell_type": "code",
   "execution_count": 14,
   "id": "a5065867",
   "metadata": {},
   "outputs": [
    {
     "name": "stdout",
     "output_type": "stream",
     "text": [
      "Corey Schafer\n",
      "Corey Schafer\n"
     ]
    }
   ],
   "source": [
    "print(emp_1.fullname())\n",
    "print(Employee.fullname(emp_1))"
   ]
  }
 ],
 "metadata": {
  "kernelspec": {
   "display_name": "Python 3 (ipykernel)",
   "language": "python",
   "name": "python3"
  },
  "language_info": {
   "codemirror_mode": {
    "name": "ipython",
    "version": 3
   },
   "file_extension": ".py",
   "mimetype": "text/x-python",
   "name": "python",
   "nbconvert_exporter": "python",
   "pygments_lexer": "ipython3",
   "version": "3.11.5"
  }
 },
 "nbformat": 4,
 "nbformat_minor": 5
}
