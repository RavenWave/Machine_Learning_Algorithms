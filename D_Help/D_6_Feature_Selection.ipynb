{
 "cells": [
  {
   "cell_type": "markdown",
   "id": "67f27b45",
   "metadata": {},
   "source": [
    "### 1 - Univariate Selection"
   ]
  },
  {
   "cell_type": "markdown",
   "id": "83265e25",
   "metadata": {},
   "source": [
    "📌 Selecting features based on statistical tests like chi-square, ANOVA, or correlation coefficients."
   ]
  },
  {
   "cell_type": "markdown",
   "id": "0d9fe6f9",
   "metadata": {},
   "source": [
    "### 2 - Recursive Feature Elimination"
   ]
  },
  {
   "cell_type": "markdown",
   "id": "027beec3",
   "metadata": {},
   "source": [
    "📌  Iteratively removing features based on model performance."
   ]
  },
  {
   "cell_type": "markdown",
   "id": "55d1aa26",
   "metadata": {},
   "source": [
    "### 3 - Feature Importance"
   ]
  },
  {
   "cell_type": "markdown",
   "id": "0df35cdd",
   "metadata": {},
   "source": [
    "📌 Using model-specific techniques like decision tree feature importance or permutation importance."
   ]
  }
 ],
 "metadata": {
  "kernelspec": {
   "display_name": "Python 3 (ipykernel)",
   "language": "python",
   "name": "python3"
  },
  "language_info": {
   "codemirror_mode": {
    "name": "ipython",
    "version": 3
   },
   "file_extension": ".py",
   "mimetype": "text/x-python",
   "name": "python",
   "nbconvert_exporter": "python",
   "pygments_lexer": "ipython3",
   "version": "3.11.5"
  }
 },
 "nbformat": 4,
 "nbformat_minor": 5
}
