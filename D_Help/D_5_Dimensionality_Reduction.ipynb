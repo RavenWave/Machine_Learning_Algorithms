{
 "cells": [
  {
   "cell_type": "markdown",
   "id": "783434d3",
   "metadata": {},
   "source": [
    "### 1 - Principal Component Analysis (PCA)"
   ]
  },
  {
   "cell_type": "markdown",
   "id": "a765e355",
   "metadata": {},
   "source": [
    "📌 Reducing dimensionality while preserving most of the variance."
   ]
  },
  {
   "cell_type": "markdown",
   "id": "2835ef59",
   "metadata": {},
   "source": [
    "### 2 - t-Distributed Stochastic Neighbor Embedding (t-SNE)"
   ]
  },
  {
   "cell_type": "markdown",
   "id": "1b3767b6",
   "metadata": {},
   "source": [
    "📌 Reducing dimensionality for visualization purposes."
   ]
  },
  {
   "cell_type": "markdown",
   "id": "c436dd76",
   "metadata": {},
   "source": [
    "### 3 - Linear Discriminant Analysis (LDA)"
   ]
  },
  {
   "cell_type": "markdown",
   "id": "929cf9b5",
   "metadata": {},
   "source": [
    "📌 Reducing dimensionality while maximizing class separability."
   ]
  }
 ],
 "metadata": {
  "kernelspec": {
   "display_name": "Python 3 (ipykernel)",
   "language": "python",
   "name": "python3"
  },
  "language_info": {
   "codemirror_mode": {
    "name": "ipython",
    "version": 3
   },
   "file_extension": ".py",
   "mimetype": "text/x-python",
   "name": "python",
   "nbconvert_exporter": "python",
   "pygments_lexer": "ipython3",
   "version": "3.11.5"
  }
 },
 "nbformat": 4,
 "nbformat_minor": 5
}
