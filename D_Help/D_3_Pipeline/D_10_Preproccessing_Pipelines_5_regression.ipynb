{
 "cells": [
  {
   "cell_type": "markdown",
   "id": "d635ccaf-1f95-4b60-b35d-cb2835fb2874",
   "metadata": {
    "jp-MarkdownHeadingCollapsed": true
   },
   "source": [
    "# Import Libraries and Data Set"
   ]
  },
  {
   "cell_type": "code",
   "execution_count": 37,
   "id": "4bff1b95",
   "metadata": {},
   "outputs": [],
   "source": [
    "import pandas as pd\n",
    "import numpy as np\n",
    "from cenfo.obliging import information, report_regression"
   ]
  },
  {
   "cell_type": "code",
   "execution_count": 38,
   "id": "b44de333",
   "metadata": {
    "scrolled": true
   },
   "outputs": [
    {
     "data": {
      "text/html": [
       "<div>\n",
       "<style scoped>\n",
       "    .dataframe tbody tr th:only-of-type {\n",
       "        vertical-align: middle;\n",
       "    }\n",
       "\n",
       "    .dataframe tbody tr th {\n",
       "        vertical-align: top;\n",
       "    }\n",
       "\n",
       "    .dataframe thead th {\n",
       "        text-align: right;\n",
       "    }\n",
       "</style>\n",
       "<table border=\"1\" class=\"dataframe\">\n",
       "  <thead>\n",
       "    <tr style=\"text-align: right;\">\n",
       "      <th></th>\n",
       "      <th>MODELYEAR</th>\n",
       "      <th>MAKE</th>\n",
       "      <th>MODEL</th>\n",
       "      <th>VEHICLECLASS</th>\n",
       "      <th>ENGINESIZE</th>\n",
       "      <th>CYLINDERS</th>\n",
       "      <th>TRANSMISSION</th>\n",
       "      <th>FUELTYPE</th>\n",
       "      <th>FUELCONSUMPTION_CITY</th>\n",
       "      <th>FUELCONSUMPTION_HWY</th>\n",
       "      <th>FUELCONSUMPTION_COMB</th>\n",
       "      <th>FUELCONSUMPTION_COMB_MPG</th>\n",
       "      <th>CO2EMISSIONS</th>\n",
       "    </tr>\n",
       "  </thead>\n",
       "  <tbody>\n",
       "    <tr>\n",
       "      <th>0</th>\n",
       "      <td>2014</td>\n",
       "      <td>ACURA</td>\n",
       "      <td>ILX</td>\n",
       "      <td>COMPACT</td>\n",
       "      <td>2.0</td>\n",
       "      <td>4</td>\n",
       "      <td>AS5</td>\n",
       "      <td>Z</td>\n",
       "      <td>9.9</td>\n",
       "      <td>6.7</td>\n",
       "      <td>8.5</td>\n",
       "      <td>33</td>\n",
       "      <td>196</td>\n",
       "    </tr>\n",
       "    <tr>\n",
       "      <th>1</th>\n",
       "      <td>2014</td>\n",
       "      <td>ACURA</td>\n",
       "      <td>ILX</td>\n",
       "      <td>COMPACT</td>\n",
       "      <td>2.4</td>\n",
       "      <td>4</td>\n",
       "      <td>M6</td>\n",
       "      <td>Z</td>\n",
       "      <td>11.2</td>\n",
       "      <td>7.7</td>\n",
       "      <td>9.6</td>\n",
       "      <td>29</td>\n",
       "      <td>221</td>\n",
       "    </tr>\n",
       "    <tr>\n",
       "      <th>2</th>\n",
       "      <td>2014</td>\n",
       "      <td>ACURA</td>\n",
       "      <td>ILX HYBRID</td>\n",
       "      <td>COMPACT</td>\n",
       "      <td>1.5</td>\n",
       "      <td>4</td>\n",
       "      <td>AV7</td>\n",
       "      <td>Z</td>\n",
       "      <td>6.0</td>\n",
       "      <td>5.8</td>\n",
       "      <td>5.9</td>\n",
       "      <td>48</td>\n",
       "      <td>136</td>\n",
       "    </tr>\n",
       "    <tr>\n",
       "      <th>3</th>\n",
       "      <td>2014</td>\n",
       "      <td>ACURA</td>\n",
       "      <td>MDX 4WD</td>\n",
       "      <td>SUV - SMALL</td>\n",
       "      <td>3.5</td>\n",
       "      <td>6</td>\n",
       "      <td>AS6</td>\n",
       "      <td>Z</td>\n",
       "      <td>12.7</td>\n",
       "      <td>9.1</td>\n",
       "      <td>11.1</td>\n",
       "      <td>25</td>\n",
       "      <td>255</td>\n",
       "    </tr>\n",
       "    <tr>\n",
       "      <th>4</th>\n",
       "      <td>2014</td>\n",
       "      <td>ACURA</td>\n",
       "      <td>RDX AWD</td>\n",
       "      <td>SUV - SMALL</td>\n",
       "      <td>3.5</td>\n",
       "      <td>6</td>\n",
       "      <td>AS6</td>\n",
       "      <td>Z</td>\n",
       "      <td>12.1</td>\n",
       "      <td>8.7</td>\n",
       "      <td>10.6</td>\n",
       "      <td>27</td>\n",
       "      <td>244</td>\n",
       "    </tr>\n",
       "  </tbody>\n",
       "</table>\n",
       "</div>"
      ],
      "text/plain": [
       "   MODELYEAR   MAKE       MODEL VEHICLECLASS  ENGINESIZE  CYLINDERS  \\\n",
       "0       2014  ACURA         ILX      COMPACT         2.0          4   \n",
       "1       2014  ACURA         ILX      COMPACT         2.4          4   \n",
       "2       2014  ACURA  ILX HYBRID      COMPACT         1.5          4   \n",
       "3       2014  ACURA     MDX 4WD  SUV - SMALL         3.5          6   \n",
       "4       2014  ACURA     RDX AWD  SUV - SMALL         3.5          6   \n",
       "\n",
       "  TRANSMISSION FUELTYPE  FUELCONSUMPTION_CITY  FUELCONSUMPTION_HWY  \\\n",
       "0          AS5        Z                   9.9                  6.7   \n",
       "1           M6        Z                  11.2                  7.7   \n",
       "2          AV7        Z                   6.0                  5.8   \n",
       "3          AS6        Z                  12.7                  9.1   \n",
       "4          AS6        Z                  12.1                  8.7   \n",
       "\n",
       "   FUELCONSUMPTION_COMB  FUELCONSUMPTION_COMB_MPG  CO2EMISSIONS  \n",
       "0                   8.5                        33           196  \n",
       "1                   9.6                        29           221  \n",
       "2                   5.9                        48           136  \n",
       "3                  11.1                        25           255  \n",
       "4                  10.6                        27           244  "
      ]
     },
     "execution_count": 38,
     "metadata": {},
     "output_type": "execute_result"
    }
   ],
   "source": [
    "df0 = pd.read_csv('../../Machine_Learning_Algorithms/C_Datasets/Co2_Emission.csv')\n",
    "df0.head()"
   ]
  },
  {
   "cell_type": "markdown",
   "id": "d38a230c-90a1-45f4-a008-c6cdff344cc7",
   "metadata": {
    "jp-MarkdownHeadingCollapsed": true
   },
   "source": [
    "# Preprocessing"
   ]
  },
  {
   "cell_type": "markdown",
   "id": "fe9f23d2-ffdf-41c5-bd78-256c1abdfc7b",
   "metadata": {},
   "source": [
    "- drop columns: 'MODELYEAR', 'MAKE', 'MODEL'\n",
    "- Seperate TRANSMISSION to two different columns with by numbers and letters"
   ]
  },
  {
   "cell_type": "markdown",
   "id": "e0b23f8b",
   "metadata": {},
   "source": [
    "### Import Libraries"
   ]
  },
  {
   "cell_type": "code",
   "execution_count": 39,
   "id": "07c5379e-3d10-4c3b-93c9-0e7c49067063",
   "metadata": {},
   "outputs": [],
   "source": [
    "def preprocessing(X):\n",
    "    X['TRANSMISSION'] = X.TRANSMISSION.replace('AV', 'AV0')\n",
    "    return (\n",
    "                X\n",
    "                .assign(TRANSMISSION_TYPE = X.TRANSMISSION.apply(lambda x: x[:-1]),\n",
    "                        TRANSMISSION_NUM = X.TRANSMISSION.apply(lambda x: x[-1]).astype('int'))\n",
    "                .drop(['MODELYEAR', 'MAKE', 'MODEL', 'TRANSMISSION'], axis=1)\n",
    "            )"
   ]
  },
  {
   "cell_type": "code",
   "execution_count": 40,
   "id": "25a00c35-ca20-4e3a-b3cc-953427b8c543",
   "metadata": {},
   "outputs": [],
   "source": [
    "df = preprocessing(df0)"
   ]
  },
  {
   "cell_type": "code",
   "execution_count": 41,
   "id": "76e961fe-b3d3-4d95-972e-f87eaea25d94",
   "metadata": {},
   "outputs": [
    {
     "data": {
      "text/html": [
       "<div>\n",
       "<style scoped>\n",
       "    .dataframe tbody tr th:only-of-type {\n",
       "        vertical-align: middle;\n",
       "    }\n",
       "\n",
       "    .dataframe tbody tr th {\n",
       "        vertical-align: top;\n",
       "    }\n",
       "\n",
       "    .dataframe thead th {\n",
       "        text-align: right;\n",
       "    }\n",
       "</style>\n",
       "<table border=\"1\" class=\"dataframe\">\n",
       "  <thead>\n",
       "    <tr style=\"text-align: right;\">\n",
       "      <th></th>\n",
       "      <th>VEHICLECLASS</th>\n",
       "      <th>ENGINESIZE</th>\n",
       "      <th>CYLINDERS</th>\n",
       "      <th>FUELTYPE</th>\n",
       "      <th>FUELCONSUMPTION_CITY</th>\n",
       "      <th>FUELCONSUMPTION_HWY</th>\n",
       "      <th>FUELCONSUMPTION_COMB</th>\n",
       "      <th>FUELCONSUMPTION_COMB_MPG</th>\n",
       "      <th>CO2EMISSIONS</th>\n",
       "      <th>TRANSMISSION_TYPE</th>\n",
       "      <th>TRANSMISSION_NUM</th>\n",
       "    </tr>\n",
       "  </thead>\n",
       "  <tbody>\n",
       "    <tr>\n",
       "      <th>0</th>\n",
       "      <td>COMPACT</td>\n",
       "      <td>2.0</td>\n",
       "      <td>4</td>\n",
       "      <td>Z</td>\n",
       "      <td>9.9</td>\n",
       "      <td>6.7</td>\n",
       "      <td>8.5</td>\n",
       "      <td>33</td>\n",
       "      <td>196</td>\n",
       "      <td>AS</td>\n",
       "      <td>5</td>\n",
       "    </tr>\n",
       "    <tr>\n",
       "      <th>1</th>\n",
       "      <td>COMPACT</td>\n",
       "      <td>2.4</td>\n",
       "      <td>4</td>\n",
       "      <td>Z</td>\n",
       "      <td>11.2</td>\n",
       "      <td>7.7</td>\n",
       "      <td>9.6</td>\n",
       "      <td>29</td>\n",
       "      <td>221</td>\n",
       "      <td>M</td>\n",
       "      <td>6</td>\n",
       "    </tr>\n",
       "    <tr>\n",
       "      <th>2</th>\n",
       "      <td>COMPACT</td>\n",
       "      <td>1.5</td>\n",
       "      <td>4</td>\n",
       "      <td>Z</td>\n",
       "      <td>6.0</td>\n",
       "      <td>5.8</td>\n",
       "      <td>5.9</td>\n",
       "      <td>48</td>\n",
       "      <td>136</td>\n",
       "      <td>AV</td>\n",
       "      <td>7</td>\n",
       "    </tr>\n",
       "    <tr>\n",
       "      <th>3</th>\n",
       "      <td>SUV - SMALL</td>\n",
       "      <td>3.5</td>\n",
       "      <td>6</td>\n",
       "      <td>Z</td>\n",
       "      <td>12.7</td>\n",
       "      <td>9.1</td>\n",
       "      <td>11.1</td>\n",
       "      <td>25</td>\n",
       "      <td>255</td>\n",
       "      <td>AS</td>\n",
       "      <td>6</td>\n",
       "    </tr>\n",
       "    <tr>\n",
       "      <th>4</th>\n",
       "      <td>SUV - SMALL</td>\n",
       "      <td>3.5</td>\n",
       "      <td>6</td>\n",
       "      <td>Z</td>\n",
       "      <td>12.1</td>\n",
       "      <td>8.7</td>\n",
       "      <td>10.6</td>\n",
       "      <td>27</td>\n",
       "      <td>244</td>\n",
       "      <td>AS</td>\n",
       "      <td>6</td>\n",
       "    </tr>\n",
       "  </tbody>\n",
       "</table>\n",
       "</div>"
      ],
      "text/plain": [
       "  VEHICLECLASS  ENGINESIZE  CYLINDERS FUELTYPE  FUELCONSUMPTION_CITY  \\\n",
       "0      COMPACT         2.0          4        Z                   9.9   \n",
       "1      COMPACT         2.4          4        Z                  11.2   \n",
       "2      COMPACT         1.5          4        Z                   6.0   \n",
       "3  SUV - SMALL         3.5          6        Z                  12.7   \n",
       "4  SUV - SMALL         3.5          6        Z                  12.1   \n",
       "\n",
       "   FUELCONSUMPTION_HWY  FUELCONSUMPTION_COMB  FUELCONSUMPTION_COMB_MPG  \\\n",
       "0                  6.7                   8.5                        33   \n",
       "1                  7.7                   9.6                        29   \n",
       "2                  5.8                   5.9                        48   \n",
       "3                  9.1                  11.1                        25   \n",
       "4                  8.7                  10.6                        27   \n",
       "\n",
       "   CO2EMISSIONS TRANSMISSION_TYPE  TRANSMISSION_NUM  \n",
       "0           196                AS                 5  \n",
       "1           221                 M                 6  \n",
       "2           136                AV                 7  \n",
       "3           255                AS                 6  \n",
       "4           244                AS                 6  "
      ]
     },
     "execution_count": 41,
     "metadata": {},
     "output_type": "execute_result"
    }
   ],
   "source": [
    "df.head()"
   ]
  },
  {
   "cell_type": "code",
   "execution_count": 42,
   "id": "ef7fb4e3-e677-4675-9f18-75e182530204",
   "metadata": {},
   "outputs": [
    {
     "data": {
      "text/plain": [
       "VEHICLECLASS                 object\n",
       "ENGINESIZE                  float64\n",
       "CYLINDERS                     int64\n",
       "FUELTYPE                     object\n",
       "FUELCONSUMPTION_CITY        float64\n",
       "FUELCONSUMPTION_HWY         float64\n",
       "FUELCONSUMPTION_COMB        float64\n",
       "FUELCONSUMPTION_COMB_MPG      int64\n",
       "CO2EMISSIONS                  int64\n",
       "TRANSMISSION_TYPE            object\n",
       "TRANSMISSION_NUM              int32\n",
       "dtype: object"
      ]
     },
     "execution_count": 42,
     "metadata": {},
     "output_type": "execute_result"
    }
   ],
   "source": [
    "df.dtypes"
   ]
  },
  {
   "cell_type": "markdown",
   "id": "4348f5ba-2fbd-4cd0-970b-fe39093a8577",
   "metadata": {
    "jp-MarkdownHeadingCollapsed": true
   },
   "source": [
    "# Split Data Set"
   ]
  },
  {
   "cell_type": "code",
   "execution_count": 43,
   "id": "52143a51-9b45-46ab-aa96-1e3e2bed076c",
   "metadata": {},
   "outputs": [],
   "source": [
    "from sklearn.model_selection import train_test_split"
   ]
  },
  {
   "cell_type": "code",
   "execution_count": 44,
   "id": "563ef684-3e7c-4932-bd89-f571221307c3",
   "metadata": {},
   "outputs": [],
   "source": [
    "X = df.drop('CO2EMISSIONS', axis=1)\n",
    "y = df[['CO2EMISSIONS']]"
   ]
  },
  {
   "cell_type": "code",
   "execution_count": 45,
   "id": "1b1c03ed-4771-45fc-965c-7bff28c04f20",
   "metadata": {},
   "outputs": [],
   "source": [
    "X_train, X_test, y_train, y_test = train_test_split(X, y, test_size=0.25, random_state=42)"
   ]
  },
  {
   "cell_type": "markdown",
   "id": "0d600bb2-a3a2-4518-ade9-594bdda298f9",
   "metadata": {},
   "source": [
    "# Define Dtypes"
   ]
  },
  {
   "cell_type": "code",
   "execution_count": 46,
   "id": "87dc57c6-4443-411a-b4b8-cf74d4561c05",
   "metadata": {},
   "outputs": [],
   "source": [
    "numerical_cols = X.select_dtypes('number').columns\n",
    "categorical_cols = X.select_dtypes('object').columns"
   ]
  },
  {
   "cell_type": "code",
   "execution_count": 47,
   "id": "bc1ee046",
   "metadata": {},
   "outputs": [],
   "source": [
    "from sklearn.ensemble import GradientBoostingClassifier as boosting"
   ]
  },
  {
   "cell_type": "markdown",
   "id": "48c5eb27-60de-4ffd-8416-83f1d324a464",
   "metadata": {
    "jp-MarkdownHeadingCollapsed": true
   },
   "source": [
    "# Create Pipelines for ColumnTransformer"
   ]
  },
  {
   "cell_type": "code",
   "execution_count": 48,
   "id": "632c3204-ad18-408b-893e-7b781b5cdffc",
   "metadata": {},
   "outputs": [],
   "source": [
    "from sklearn.pipeline import Pipeline\n",
    "from sklearn.preprocessing import StandardScaler, OneHotEncoder"
   ]
  },
  {
   "cell_type": "code",
   "execution_count": 49,
   "id": "e5564618-a7fa-49e7-a74b-e0302181f23d",
   "metadata": {},
   "outputs": [],
   "source": [
    "numerical_pipe = Pipeline([('scaler', StandardScaler())])\n",
    "categorical_pipe = Pipeline([('encode', OneHotEncoder(handle_unknown='ignore'))])"
   ]
  },
  {
   "cell_type": "markdown",
   "id": "c8610b48-994d-4a49-bf88-5d8d97d883c5",
   "metadata": {
    "jp-MarkdownHeadingCollapsed": true
   },
   "source": [
    "# Create ColumnTransformer"
   ]
  },
  {
   "cell_type": "code",
   "execution_count": 50,
   "id": "b44dbff7-908f-4aa9-8df8-bf0e989cb78b",
   "metadata": {},
   "outputs": [],
   "source": [
    "from sklearn.compose import ColumnTransformer"
   ]
  },
  {
   "cell_type": "code",
   "execution_count": 51,
   "id": "2b3a5bbd-c0c2-4fa0-927a-4b6085686998",
   "metadata": {},
   "outputs": [],
   "source": [
    "preprocessor = ColumnTransformer([\n",
    "    ('numerical', numerical_pipe, numerical_cols),\n",
    "    ('categorical', categorical_pipe, categorical_cols)\n",
    "])"
   ]
  },
  {
   "cell_type": "markdown",
   "id": "9aa20e4e-371a-42c0-8350-52b067a4f83b",
   "metadata": {},
   "source": [
    "# Create Pipeline for Models"
   ]
  },
  {
   "cell_type": "code",
   "execution_count": 52,
   "id": "ea983901-d77c-4767-be7a-5e864d137fc4",
   "metadata": {},
   "outputs": [],
   "source": [
    "def pipe(model):\n",
    "    return Pipeline([\n",
    "                ('preprocessor', preprocessor),\n",
    "                ('model', model)\n",
    "            ])"
   ]
  },
  {
   "cell_type": "code",
   "execution_count": null,
   "id": "9ae6d818-53b1-4a8d-95d6-f07cf8c95323",
   "metadata": {},
   "outputs": [],
   "source": [
    "def model_report(X):\n",
    "    model = X\n",
    "    pipe_model = pipe(model)\n",
    "    pipe_model.fit(X_train, y_train)\n",
    "    y_pred = pipe_model.predict(X_test)\n",
    "    return report_regression(y_test, y_pred, model)"
   ]
  },
  {
   "cell_type": "markdown",
   "id": "4d2cce09-7a1c-444c-a6e3-45c785bb97da",
   "metadata": {},
   "source": [
    "# Regression Models"
   ]
  },
  {
   "cell_type": "markdown",
   "id": "660e3cd2-8c02-452e-8268-17b6138c5f0a",
   "metadata": {},
   "source": [
    "## LinearRegression()"
   ]
  },
  {
   "cell_type": "code",
   "execution_count": 53,
   "id": "9a55660b-26e8-4b19-aee5-23baac74925e",
   "metadata": {},
   "outputs": [],
   "source": [
    "from sklearn.linear_model import LinearRegression as LinReg\n",
    "from cenfo.obliging import report_regression"
   ]
  },
  {
   "cell_type": "code",
   "execution_count": 65,
   "id": "33629073-a03c-49d9-84d2-eb613b98f06e",
   "metadata": {},
   "outputs": [
    {
     "data": {
      "text/html": [
       "<div>\n",
       "<style scoped>\n",
       "    .dataframe tbody tr th:only-of-type {\n",
       "        vertical-align: middle;\n",
       "    }\n",
       "\n",
       "    .dataframe tbody tr th {\n",
       "        vertical-align: top;\n",
       "    }\n",
       "\n",
       "    .dataframe thead th {\n",
       "        text-align: right;\n",
       "    }\n",
       "</style>\n",
       "<table border=\"1\" class=\"dataframe\">\n",
       "  <thead>\n",
       "    <tr style=\"text-align: right;\">\n",
       "      <th></th>\n",
       "      <th>Model</th>\n",
       "      <th>MAE</th>\n",
       "      <th>MSE</th>\n",
       "      <th>RMSE</th>\n",
       "      <th>R2</th>\n",
       "    </tr>\n",
       "  </thead>\n",
       "  <tbody>\n",
       "    <tr>\n",
       "      <th>0</th>\n",
       "      <td>LinearRegression</td>\n",
       "      <td>3.404693</td>\n",
       "      <td>36.880378</td>\n",
       "      <td>6.072922</td>\n",
       "      <td>0.991109</td>\n",
       "    </tr>\n",
       "  </tbody>\n",
       "</table>\n",
       "</div>"
      ],
      "text/plain": [
       "              Model       MAE        MSE      RMSE        R2\n",
       "0  LinearRegression  3.404693  36.880378  6.072922  0.991109"
      ]
     },
     "execution_count": 65,
     "metadata": {},
     "output_type": "execute_result"
    }
   ],
   "source": [
    "model_report(LinReg())"
   ]
  },
  {
   "cell_type": "markdown",
   "id": "0dbd05ee-fdba-4e75-b35e-cf6f9f78899c",
   "metadata": {},
   "source": [
    "## DecisionTreeRegression()"
   ]
  },
  {
   "cell_type": "code",
   "execution_count": 61,
   "id": "7e1c38ad-2613-47d3-8291-e8b4b067d331",
   "metadata": {},
   "outputs": [],
   "source": [
    "from sklearn.tree import DecisionTreeRegressor as tree"
   ]
  },
  {
   "cell_type": "code",
   "execution_count": 66,
   "id": "6aafef93-0432-4c49-a40b-84d068795b2d",
   "metadata": {},
   "outputs": [
    {
     "data": {
      "text/html": [
       "<div>\n",
       "<style scoped>\n",
       "    .dataframe tbody tr th:only-of-type {\n",
       "        vertical-align: middle;\n",
       "    }\n",
       "\n",
       "    .dataframe tbody tr th {\n",
       "        vertical-align: top;\n",
       "    }\n",
       "\n",
       "    .dataframe thead th {\n",
       "        text-align: right;\n",
       "    }\n",
       "</style>\n",
       "<table border=\"1\" class=\"dataframe\">\n",
       "  <thead>\n",
       "    <tr style=\"text-align: right;\">\n",
       "      <th></th>\n",
       "      <th>Model</th>\n",
       "      <th>MAE</th>\n",
       "      <th>MSE</th>\n",
       "      <th>RMSE</th>\n",
       "      <th>R2</th>\n",
       "    </tr>\n",
       "  </thead>\n",
       "  <tbody>\n",
       "    <tr>\n",
       "      <th>0</th>\n",
       "      <td>DecisionTreeRegressor</td>\n",
       "      <td>1.108614</td>\n",
       "      <td>25.7603</td>\n",
       "      <td>5.075461</td>\n",
       "      <td>0.99379</td>\n",
       "    </tr>\n",
       "  </tbody>\n",
       "</table>\n",
       "</div>"
      ],
      "text/plain": [
       "                   Model       MAE      MSE      RMSE       R2\n",
       "0  DecisionTreeRegressor  1.108614  25.7603  5.075461  0.99379"
      ]
     },
     "execution_count": 66,
     "metadata": {},
     "output_type": "execute_result"
    }
   ],
   "source": [
    "model_report(tree())"
   ]
  },
  {
   "cell_type": "markdown",
   "id": "2e2a1c3c-dd23-4881-9774-ac5761a0b4ea",
   "metadata": {},
   "source": [
    "## RandomForestRegression()"
   ]
  },
  {
   "cell_type": "code",
   "execution_count": 67,
   "id": "5558a53a-345a-401a-99fa-210f71b7b765",
   "metadata": {},
   "outputs": [],
   "source": [
    "from sklearn.ensemble import RandomForestRegressor as forest"
   ]
  },
  {
   "cell_type": "code",
   "execution_count": 68,
   "id": "5918a07c-f5b3-4f78-a039-f06a2a4eaf1b",
   "metadata": {},
   "outputs": [
    {
     "name": "stderr",
     "output_type": "stream",
     "text": [
      "C:\\Users\\monstr\\anaconda3\\Lib\\site-packages\\sklearn\\base.py:1474: DataConversionWarning: A column-vector y was passed when a 1d array was expected. Please change the shape of y to (n_samples,), for example using ravel().\n",
      "  return fit_method(estimator, *args, **kwargs)\n"
     ]
    },
    {
     "data": {
      "text/html": [
       "<div>\n",
       "<style scoped>\n",
       "    .dataframe tbody tr th:only-of-type {\n",
       "        vertical-align: middle;\n",
       "    }\n",
       "\n",
       "    .dataframe tbody tr th {\n",
       "        vertical-align: top;\n",
       "    }\n",
       "\n",
       "    .dataframe thead th {\n",
       "        text-align: right;\n",
       "    }\n",
       "</style>\n",
       "<table border=\"1\" class=\"dataframe\">\n",
       "  <thead>\n",
       "    <tr style=\"text-align: right;\">\n",
       "      <th></th>\n",
       "      <th>Model</th>\n",
       "      <th>MAE</th>\n",
       "      <th>MSE</th>\n",
       "      <th>RMSE</th>\n",
       "      <th>R2</th>\n",
       "    </tr>\n",
       "  </thead>\n",
       "  <tbody>\n",
       "    <tr>\n",
       "      <th>0</th>\n",
       "      <td>RandomForestRegressor</td>\n",
       "      <td>1.715169</td>\n",
       "      <td>36.076767</td>\n",
       "      <td>6.006394</td>\n",
       "      <td>0.991303</td>\n",
       "    </tr>\n",
       "  </tbody>\n",
       "</table>\n",
       "</div>"
      ],
      "text/plain": [
       "                   Model       MAE        MSE      RMSE        R2\n",
       "0  RandomForestRegressor  1.715169  36.076767  6.006394  0.991303"
      ]
     },
     "execution_count": 68,
     "metadata": {},
     "output_type": "execute_result"
    }
   ],
   "source": [
    "model_report(forest())"
   ]
  },
  {
   "cell_type": "markdown",
   "id": "1fb35ed2-5ed0-4f2a-b436-9332a6fb5a4a",
   "metadata": {},
   "source": [
    "## SVR()"
   ]
  },
  {
   "cell_type": "code",
   "execution_count": 69,
   "id": "ac322a5b-30a8-4ea1-963f-e1010c613e9e",
   "metadata": {},
   "outputs": [],
   "source": [
    "from sklearn.svm import SVR"
   ]
  },
  {
   "cell_type": "code",
   "execution_count": 70,
   "id": "f060346b-7abe-400c-82bf-90d61cab943b",
   "metadata": {},
   "outputs": [
    {
     "name": "stderr",
     "output_type": "stream",
     "text": [
      "C:\\Users\\monstr\\anaconda3\\Lib\\site-packages\\sklearn\\utils\\validation.py:1300: DataConversionWarning: A column-vector y was passed when a 1d array was expected. Please change the shape of y to (n_samples, ), for example using ravel().\n",
      "  y = column_or_1d(y, warn=True)\n"
     ]
    },
    {
     "data": {
      "text/html": [
       "<div>\n",
       "<style scoped>\n",
       "    .dataframe tbody tr th:only-of-type {\n",
       "        vertical-align: middle;\n",
       "    }\n",
       "\n",
       "    .dataframe tbody tr th {\n",
       "        vertical-align: top;\n",
       "    }\n",
       "\n",
       "    .dataframe thead th {\n",
       "        text-align: right;\n",
       "    }\n",
       "</style>\n",
       "<table border=\"1\" class=\"dataframe\">\n",
       "  <thead>\n",
       "    <tr style=\"text-align: right;\">\n",
       "      <th></th>\n",
       "      <th>Model</th>\n",
       "      <th>MAE</th>\n",
       "      <th>MSE</th>\n",
       "      <th>RMSE</th>\n",
       "      <th>R2</th>\n",
       "    </tr>\n",
       "  </thead>\n",
       "  <tbody>\n",
       "    <tr>\n",
       "      <th>0</th>\n",
       "      <td>SVR</td>\n",
       "      <td>19.920307</td>\n",
       "      <td>1215.11441</td>\n",
       "      <td>34.858491</td>\n",
       "      <td>0.707058</td>\n",
       "    </tr>\n",
       "  </tbody>\n",
       "</table>\n",
       "</div>"
      ],
      "text/plain": [
       "  Model        MAE         MSE       RMSE        R2\n",
       "0   SVR  19.920307  1215.11441  34.858491  0.707058"
      ]
     },
     "execution_count": 70,
     "metadata": {},
     "output_type": "execute_result"
    }
   ],
   "source": [
    "model_report(SVR())"
   ]
  },
  {
   "cell_type": "markdown",
   "id": "b222fcd5-a8ef-4c6d-80fc-7d6880215061",
   "metadata": {},
   "source": [
    "## GradientBoostingRegression()"
   ]
  },
  {
   "cell_type": "code",
   "execution_count": 71,
   "id": "4fe20660-b533-4dfe-85d4-99f666c55087",
   "metadata": {},
   "outputs": [],
   "source": [
    "from sklearn.ensemble import GradientBoostingRegressor as boosting"
   ]
  },
  {
   "cell_type": "code",
   "execution_count": 72,
   "id": "1edd6574-265d-49e2-97df-aa4da638248a",
   "metadata": {},
   "outputs": [
    {
     "name": "stderr",
     "output_type": "stream",
     "text": [
      "C:\\Users\\monstr\\anaconda3\\Lib\\site-packages\\sklearn\\ensemble\\_gb.py:668: DataConversionWarning: A column-vector y was passed when a 1d array was expected. Please change the shape of y to (n_samples, ), for example using ravel().\n",
      "  y = column_or_1d(y, warn=True)  # TODO: Is this still required?\n"
     ]
    },
    {
     "data": {
      "text/html": [
       "<div>\n",
       "<style scoped>\n",
       "    .dataframe tbody tr th:only-of-type {\n",
       "        vertical-align: middle;\n",
       "    }\n",
       "\n",
       "    .dataframe tbody tr th {\n",
       "        vertical-align: top;\n",
       "    }\n",
       "\n",
       "    .dataframe thead th {\n",
       "        text-align: right;\n",
       "    }\n",
       "</style>\n",
       "<table border=\"1\" class=\"dataframe\">\n",
       "  <thead>\n",
       "    <tr style=\"text-align: right;\">\n",
       "      <th></th>\n",
       "      <th>Model</th>\n",
       "      <th>MAE</th>\n",
       "      <th>MSE</th>\n",
       "      <th>RMSE</th>\n",
       "      <th>R2</th>\n",
       "    </tr>\n",
       "  </thead>\n",
       "  <tbody>\n",
       "    <tr>\n",
       "      <th>0</th>\n",
       "      <td>GradientBoostingRegressor</td>\n",
       "      <td>2.337043</td>\n",
       "      <td>13.38608</td>\n",
       "      <td>3.658699</td>\n",
       "      <td>0.996773</td>\n",
       "    </tr>\n",
       "  </tbody>\n",
       "</table>\n",
       "</div>"
      ],
      "text/plain": [
       "                       Model       MAE       MSE      RMSE        R2\n",
       "0  GradientBoostingRegressor  2.337043  13.38608  3.658699  0.996773"
      ]
     },
     "execution_count": 72,
     "metadata": {},
     "output_type": "execute_result"
    }
   ],
   "source": [
    "model_report(boosting())"
   ]
  },
  {
   "cell_type": "markdown",
   "id": "6aa16040",
   "metadata": {},
   "source": [
    "### Create a Pipeline"
   ]
  },
  {
   "cell_type": "code",
   "execution_count": null,
   "id": "70be7e67",
   "metadata": {},
   "outputs": [],
   "source": [
    "pipe_boosting = Pipeline(steps=[\n",
    "    ('preprocessor', preprocessor),\n",
    "    ('boosting', boosting())\n",
    "])"
   ]
  },
  {
   "cell_type": "markdown",
   "id": "1b30521a",
   "metadata": {},
   "source": [
    "### Create a Parameter Grid"
   ]
  },
  {
   "cell_type": "code",
   "execution_count": null,
   "id": "095908a0",
   "metadata": {},
   "outputs": [],
   "source": [
    "param_grid = {\n",
    "    'boosting__learning_rate': [0.001, 0.01, 0.1],\n",
    "    'boosting__n_estimators': [10, 30, 50, 60, 100],\n",
    "    'boosting__max_leaf_nodes': [5,  15, 25, 35, None],\n",
    "    'boosting__ccp_alpha': [0.01, 0.1, 0.0, 1.0, 10.0],\n",
    "    'boosting__max_depth': [2, 4, 6, 8, 10]\n",
    "}"
   ]
  },
  {
   "cell_type": "markdown",
   "id": "8cb3933c",
   "metadata": {},
   "source": [
    "### Create and Fit the Grid Search"
   ]
  },
  {
   "cell_type": "code",
   "execution_count": null,
   "id": "8a2b45ce",
   "metadata": {},
   "outputs": [],
   "source": [
    "grid_search = GridSearchCV(pipe_boosting, param_grid, cv=5, scoring='accuracy', n_jobs=-1)\n",
    "grid_search.fit(X_train, y_train)"
   ]
  },
  {
   "cell_type": "markdown",
   "id": "f8e8e46b",
   "metadata": {},
   "source": [
    "### Show the Result of Grid Search"
   ]
  },
  {
   "cell_type": "code",
   "execution_count": null,
   "id": "10b8c9a6",
   "metadata": {},
   "outputs": [],
   "source": [
    "print(f'Best Parameters: {grid_search.best_params_}')\n",
    "print(f'Best Score: {grid_search.best_score_:.2f}')"
   ]
  },
  {
   "cell_type": "markdown",
   "id": "9f8ceec4",
   "metadata": {},
   "source": [
    "### Apply Results to Model"
   ]
  },
  {
   "cell_type": "code",
   "execution_count": null,
   "id": "6d636c36",
   "metadata": {},
   "outputs": [],
   "source": [
    "# create a pipeline\n",
    "pipe_boosting = Pipeline(steps=[\n",
    "    ('preprocessor', preprocessor),\n",
    "    ('boosting', boosting(ccp_alpha=0.0, learning_rate=0.1, max_depth=4, max_leaf_nodes=15, n_estimators=50))\n",
    "])\n",
    "\n",
    "# Fit the pipeline\n",
    "pipe_boosting.fit(X_train, y_train)\n",
    "\n",
    "# Make predictions\n",
    "y_pred = pipe_boosting.predict(X_test)\n",
    "\n",
    "# Show report\n",
    "boosting_report = report_classifier(y_test, y_pred, 'boosting_model')\n",
    "boosting_report"
   ]
  },
  {
   "cell_type": "code",
   "execution_count": null,
   "id": "f83042aa-e010-4480-8efd-e8dca6d03fa2",
   "metadata": {},
   "outputs": [],
   "source": []
  },
  {
   "cell_type": "code",
   "execution_count": null,
   "id": "96aeaf9c-33b5-4694-9afd-0832b060e22b",
   "metadata": {},
   "outputs": [],
   "source": []
  },
  {
   "cell_type": "code",
   "execution_count": null,
   "id": "c24a761b",
   "metadata": {},
   "outputs": [],
   "source": []
  },
  {
   "cell_type": "code",
   "execution_count": null,
   "id": "b412f606",
   "metadata": {},
   "outputs": [],
   "source": [
    "import pandas as pd\n",
    "from sklearn.model_selection import train_test_split, GridSearchCV\n",
    "from sklearn.preprocessing import StandardScaler, OneHotEncoder\n",
    "from sklearn.impute import SimpleImputer\n",
    "from sklearn.compose import ColumnTransformer\n",
    "from sklearn.pipeline import Pipeline\n",
    "from sklearn.ensemble import RandomForestClassifier\n",
    "from sklearn.metrics import accuracy_score\n",
    "\n",
    "# Load the dataset\n",
    "titanic = pd.read_csv('../../Machine_Learning_Algorithms/C_Datasets/titanic_train_original.csv')\n",
    "\n",
    "# Separate features and target\n",
    "X = titanic.drop(columns='Survived')\n",
    "y = titanic['Survived']\n",
    "\n",
    "# Identify numerical and categorical features\n",
    "numeric_features = ['Age', 'Fare', 'Parch', 'SibSp']\n",
    "categorical_features = ['Pclass', 'Sex', 'Embarked']\n",
    "\n",
    "# Numeric pipeline\n",
    "numeric_pipeline = Pipeline(steps=[\n",
    "    ('imputer', SimpleImputer(strategy='median')),\n",
    "    ('scaler', StandardScaler())\n",
    "])\n",
    "\n",
    "# Categorical pipeline\n",
    "categorical_pipeline = Pipeline(steps=[\n",
    "    ('imputer', SimpleImputer(strategy='most_frequent')),\n",
    "    ('onehot', OneHotEncoder(handle_unknown='ignore'))\n",
    "])\n",
    "\n",
    "# Combine pipelines\n",
    "preprocessor = ColumnTransformer(\n",
    "    transformers=[\n",
    "        ('num', numeric_pipeline, numeric_features),\n",
    "        ('cat', categorical_pipeline, categorical_features)\n",
    "    ]\n",
    ")\n",
    "\n",
    "# Create the full pipeline with RandomForestClassifier\n",
    "model = Pipeline(steps=[\n",
    "    ('preprocessor', preprocessor),\n",
    "    ('classifier', RandomForestClassifier(random_state=42))\n",
    "])\n",
    "\n",
    "# Define the parameter grid\n",
    "param_grid = {\n",
    "    'classifier__n_estimators': [50, 100, 200],\n",
    "    'classifier__max_depth': [None, 10, 20, 30],\n",
    "    'classifier__min_samples_split': [2, 5, 10],\n",
    "    'classifier__min_samples_leaf': [1, 2, 4]\n",
    "}\n",
    "\n",
    "# Split data\n",
    "X_train, X_test, y_train, y_test = train_test_split(X, y, test_size=0.2, random_state=42)\n",
    "\n",
    "# Perform grid search\n",
    "grid_search = GridSearchCV(model, param_grid, cv=5, scoring='accuracy', n_jobs=-1)\n",
    "grid_search.fit(X_train, y_train)\n",
    "\n",
    "# Get best parameters and estimator\n",
    "best_model = grid_search.best_estimator_\n",
    "print(f'Best parameters found: {grid_search.best_params_}')\n",
    "\n",
    "# Evaluate the model\n",
    "y_pred = best_model.predict(X_test)\n",
    "accuracy = accuracy_score(y_test, y_pred)\n",
    "print(f'Test accuracy: {accuracy}')\n"
   ]
  },
  {
   "cell_type": "code",
   "execution_count": null,
   "id": "0186f526",
   "metadata": {},
   "outputs": [],
   "source": [
    "import pandas as pd\n",
    "from sklearn.model_selection import train_test_split, GridSearchCV\n",
    "from sklearn.preprocessing import StandardScaler, OneHotEncoder\n",
    "from sklearn.impute import SimpleImputer\n",
    "from sklearn.compose import ColumnTransformer\n",
    "from sklearn.pipeline import Pipeline\n",
    "from sklearn.ensemble import RandomForestClassifier, GradientBoostingClassifier\n",
    "from sklearn.metrics import accuracy_score\n",
    "from sklearn.base import BaseEstimator, TransformerMixin\n",
    "\n",
    "# Load the dataset\n",
    "titanic = pd.read_csv('../../Machine_Learning_Algorithms/C_Datasets/titanic_train_original.csv')\n",
    "\n",
    "# Feature Engineering Functions\n",
    "def extract_title(name):\n",
    "    return name.split(',')[1].split('.')[0].strip()\n",
    "\n",
    "def extract_deck(cabin):\n",
    "    return cabin[0] if pd.notna(cabin) else 'M'\n",
    "\n",
    "# Feature Engineering\n",
    "titanic['Title'] = titanic['Name'].apply(extract_title)\n",
    "titanic['FamilySize'] = titanic['SibSp'] + titanic['Parch'] + 1\n",
    "titanic['IsAlone'] = (titanic['FamilySize'] == 1).astype(int)\n",
    "titanic['Deck'] = titanic['Cabin'].apply(extract_deck)\n",
    "\n",
    "# Drop unnecessary columns\n",
    "titanic.drop(columns=['Name', 'Ticket', 'Cabin'], inplace=True)\n",
    "\n",
    "# Separate features and target\n",
    "X = titanic.drop(columns='Survived')\n",
    "y = titanic['Survived']\n",
    "\n",
    "# Identify numerical and categorical features\n",
    "numeric_features = ['Age', 'Fare', 'Parch', 'SibSp', 'FamilySize']\n",
    "categorical_features = ['Pclass', 'Sex', 'Embarked', 'Title', 'Deck', 'IsAlone']\n",
    "\n",
    "# Numeric pipeline\n",
    "numeric_pipeline = Pipeline(steps=[\n",
    "    ('imputer', SimpleImputer(strategy='median')),\n",
    "    ('scaler', StandardScaler())\n",
    "])\n",
    "\n",
    "# Categorical pipeline\n",
    "categorical_pipeline = Pipeline(steps=[\n",
    "    ('imputer', SimpleImputer(strategy='most_frequent')),\n",
    "    ('onehot', OneHotEncoder(handle_unknown='ignore'))\n",
    "])\n",
    "\n",
    "# Combine pipelines\n",
    "preprocessor = ColumnTransformer(\n",
    "    transformers=[\n",
    "        ('num', numeric_pipeline, numeric_features),\n",
    "        ('cat', categorical_pipeline, categorical_features)\n",
    "    ]\n",
    ")\n",
    "\n",
    "# Create the full pipeline with RandomForestClassifier and GradientBoostingClassifier\n",
    "model = Pipeline(steps=[\n",
    "    ('preprocessor', preprocessor),\n",
    "    ('classifier', RandomForestClassifier(random_state=42))\n",
    "])\n",
    "\n",
    "# Define the parameter grid for RandomForestClassifier\n",
    "param_grid_rf = {\n",
    "    'classifier__n_estimators': [50, 100, 200],\n",
    "    'classifier__max_depth': [None, 10, 20, 30],\n",
    "    'classifier__min_samples_split': [2, 5, 10],\n",
    "    'classifier__min_samples_leaf': [1, 2, 4]\n",
    "}\n",
    "\n",
    "# Optionally, define the parameter grid for GradientBoostingClassifier\n",
    "param_grid_gb = {\n",
    "    'classifier': [GradientBoostingClassifier(random_state=42)],\n",
    "    'classifier__n_estimators': [50, 100, 200],\n",
    "    'classifier__learning_rate': [0.01, 0.1, 0.2],\n",
    "    'classifier__max_depth': [3, 5, 7],\n",
    "    'classifier__min_samples_split': [2, 5, 10],\n",
    "    'classifier__min_samples_leaf': [1, 2, 4]\n",
    "}\n",
    "\n",
    "# Combine parameter grids\n",
    "param_grid = [\n",
    "    param_grid_rf,\n",
    "    param_grid_gb\n",
    "]\n",
    "\n",
    "# Split data\n",
    "X_train, X_test, y_train, y_test = train_test_split(X, y, test_size=0.2, random_state=42)\n",
    "\n",
    "# Perform grid search\n",
    "grid_search = GridSearchCV(model, param_grid, cv=5, scoring='accuracy', n_jobs=-1)\n",
    "grid_search.fit(X_train, y_train)\n",
    "\n",
    "# Get best parameters and estimator\n",
    "best_model = grid_search.best_estimator_\n",
    "print(f'Best parameters found: {grid_search.best_params_}')\n",
    "\n",
    "# Evaluate the model\n",
    "y_pred = best_model.predict(X_test)\n",
    "accuracy = accuracy_score(y_test, y_pred)\n",
    "print(f'Test accuracy: {accuracy}')\n"
   ]
  },
  {
   "cell_type": "code",
   "execution_count": null,
   "id": "9d519657",
   "metadata": {},
   "outputs": [],
   "source": [
    "import pandas as pd\n",
    "from sklearn.model_selection import train_test_split, StratifiedKFold, GridSearchCV\n",
    "from sklearn.preprocessing import StandardScaler, OneHotEncoder, PolynomialFeatures\n",
    "from sklearn.impute import SimpleImputer\n",
    "from sklearn.compose import ColumnTransformer\n",
    "from sklearn.pipeline import Pipeline\n",
    "from sklearn.ensemble import RandomForestClassifier, GradientBoostingClassifier, StackingClassifier\n",
    "from sklearn.linear_model import LogisticRegression\n",
    "from sklearn.metrics import accuracy_score, f1_score, roc_auc_score\n",
    "from sklearn.base import BaseEstimator, TransformerMixin\n",
    "from imblearn.over_sampling import SMOTE\n",
    "from sklearn.decomposition import PCA\n",
    "\n",
    "# Load the dataset\n",
    "titanic = pd.read_csv('../../Machine_Learning_Algorithms/C_Datasets/titanic_train_original.csv')\n",
    "\n",
    "# Feature Engineering Functions\n",
    "def extract_title(name):\n",
    "    return name.split(',')[1].split('.')[0].strip()\n",
    "\n",
    "def extract_deck(cabin):\n",
    "    return cabin[0] if pd.notna(cabin) else 'M'\n",
    "\n",
    "# Feature Engineering\n",
    "titanic['Title'] = titanic['Name'].apply(extract_title)\n",
    "titanic['FamilySize'] = titanic['SibSp'] + titanic['Parch'] + 1\n",
    "titanic['IsAlone'] = (titanic['FamilySize'] == 1).astype(int)\n",
    "titanic['Deck'] = titanic['Cabin'].apply(extract_deck)\n",
    "\n",
    "# Drop unnecessary columns\n",
    "titanic.drop(columns=['Name', 'Ticket', 'Cabin'], inplace=True)\n",
    "\n",
    "# Separate features and target\n",
    "X = titanic.drop(columns='Survived')\n",
    "y = titanic['Survived']\n",
    "\n",
    "# Identify numerical and categorical features\n",
    "numeric_features = ['Age', 'Fare', 'Parch', 'SibSp', 'FamilySize']\n",
    "categorical_features = ['Pclass', 'Sex', 'Embarked', 'Title', 'Deck', 'IsAlone']\n",
    "\n",
    "# Numeric pipeline\n",
    "numeric_pipeline = Pipeline(steps=[\n",
    "    ('imputer', SimpleImputer(strategy='median')),\n",
    "    ('scaler', StandardScaler()),\n",
    "    ('poly', PolynomialFeatures(degree=2, include_bias=False)),\n",
    "    ('pca', PCA(n_components=10))\n",
    "])\n",
    "\n",
    "# Categorical pipeline\n",
    "categorical_pipeline = Pipeline(steps=[\n",
    "    ('imputer', SimpleImputer(strategy='most_frequent')),\n",
    "    ('onehot', OneHotEncoder(handle_unknown='ignore'))\n",
    "])\n",
    "\n",
    "# Combine pipelines\n",
    "preprocessor = ColumnTransformer(\n",
    "    transformers=[\n",
    "        ('num', numeric_pipeline, numeric_features),\n",
    "        ('cat', categorical_pipeline, categorical_features)\n",
    "    ]\n",
    ")\n",
    "\n",
    "# Define base models for stacking\n",
    "estimators = [\n",
    "    ('rf', RandomForestClassifier(random_state=42)),\n",
    "    ('gb', GradientBoostingClassifier(random_state=42))\n",
    "]\n",
    "\n",
    "# Create the full pipeline with StackingClassifier\n",
    "model = Pipeline(steps=[\n",
    "    ('preprocessor', preprocessor),\n",
    "    ('smote', SMOTE(random_state=42)),\n",
    "    ('classifier', StackingClassifier(estimators=estimators, final_estimator=LogisticRegression(), cv=5))\n",
    "])\n",
    "\n",
    "# Define the parameter grid\n",
    "param_grid = {\n",
    "    'classifier__rf__n_estimators': [100, 200],\n",
    "    'classifier__rf__max_depth': [None, 10],\n",
    "    'classifier__gb__n_estimators': [100, 200],\n",
    "    'classifier__gb__learning_rate': [0.01, 0.1]\n",
    "}\n",
    "\n",
    "# Split data with Stratified K-Fold Cross-Validation\n",
    "X_train, X_test, y_train, y_test = train_test_split(X, y, test_size=0.2, random_state=42)\n",
    "\n",
    "# Perform grid search\n",
    "grid_search = GridSearchCV(model, param_grid, cv=StratifiedKFold(n_splits=5), scoring='accuracy', n_jobs=-1)\n",
    "grid_search.fit(X_train, y_train)\n",
    "\n",
    "# Get best parameters and estimator\n",
    "best_model = grid_search.best_estimator_\n",
    "print(f'Best parameters found: {grid_search.best_params_}')\n",
    "\n",
    "# Evaluate the model\n",
    "y_pred = best_model.predict(X_test)\n",
    "accuracy = accuracy_score(y_test, y_pred)\n",
    "f1 = f1_score(y_test, y_pred)\n",
    "roc_auc = roc_auc_score(y_test, best_model.predict_proba(X_test)[:, 1])\n",
    "\n",
    "print(f'Test accuracy: {accuracy}')\n",
    "print(f'Test F1 score: {f1}')\n",
    "print(f'Test ROC AUC score: {roc_auc}')\n"
   ]
  },
  {
   "cell_type": "code",
   "execution_count": null,
   "id": "c97d802f",
   "metadata": {},
   "outputs": [],
   "source": []
  },
  {
   "cell_type": "code",
   "execution_count": null,
   "id": "be61a768",
   "metadata": {},
   "outputs": [],
   "source": []
  },
  {
   "cell_type": "code",
   "execution_count": null,
   "id": "67d0116d",
   "metadata": {},
   "outputs": [],
   "source": []
  },
  {
   "cell_type": "code",
   "execution_count": null,
   "id": "1ccafb78",
   "metadata": {},
   "outputs": [],
   "source": []
  },
  {
   "cell_type": "code",
   "execution_count": null,
   "id": "3cd51013",
   "metadata": {},
   "outputs": [],
   "source": []
  },
  {
   "cell_type": "code",
   "execution_count": null,
   "id": "96694451",
   "metadata": {},
   "outputs": [],
   "source": []
  },
  {
   "cell_type": "code",
   "execution_count": null,
   "id": "03a4951b",
   "metadata": {},
   "outputs": [],
   "source": []
  },
  {
   "cell_type": "code",
   "execution_count": null,
   "id": "a3a04e5b",
   "metadata": {},
   "outputs": [],
   "source": []
  },
  {
   "cell_type": "code",
   "execution_count": null,
   "id": "b813901d",
   "metadata": {},
   "outputs": [],
   "source": []
  },
  {
   "cell_type": "code",
   "execution_count": null,
   "id": "6bd1d2e3",
   "metadata": {},
   "outputs": [],
   "source": []
  },
  {
   "cell_type": "code",
   "execution_count": null,
   "id": "f2897000",
   "metadata": {},
   "outputs": [],
   "source": []
  },
  {
   "cell_type": "code",
   "execution_count": null,
   "id": "8d419cfc",
   "metadata": {},
   "outputs": [],
   "source": []
  },
  {
   "cell_type": "code",
   "execution_count": null,
   "id": "04a56ec4",
   "metadata": {},
   "outputs": [],
   "source": []
  },
  {
   "cell_type": "code",
   "execution_count": null,
   "id": "d5be4266",
   "metadata": {},
   "outputs": [],
   "source": []
  },
  {
   "cell_type": "code",
   "execution_count": null,
   "id": "6a65382e",
   "metadata": {},
   "outputs": [],
   "source": []
  },
  {
   "cell_type": "code",
   "execution_count": null,
   "id": "b1cd9243",
   "metadata": {},
   "outputs": [],
   "source": []
  },
  {
   "cell_type": "code",
   "execution_count": null,
   "id": "785daf9d",
   "metadata": {},
   "outputs": [],
   "source": []
  },
  {
   "cell_type": "code",
   "execution_count": null,
   "id": "612301d0",
   "metadata": {},
   "outputs": [],
   "source": []
  },
  {
   "cell_type": "code",
   "execution_count": null,
   "id": "24126f24",
   "metadata": {},
   "outputs": [],
   "source": []
  },
  {
   "cell_type": "code",
   "execution_count": null,
   "id": "d3a357fb",
   "metadata": {},
   "outputs": [],
   "source": []
  },
  {
   "cell_type": "code",
   "execution_count": null,
   "id": "5c8dd09e",
   "metadata": {},
   "outputs": [],
   "source": []
  },
  {
   "cell_type": "code",
   "execution_count": null,
   "id": "f8a363c2",
   "metadata": {},
   "outputs": [],
   "source": []
  },
  {
   "cell_type": "code",
   "execution_count": null,
   "id": "2c577cdc",
   "metadata": {},
   "outputs": [],
   "source": []
  },
  {
   "cell_type": "code",
   "execution_count": null,
   "id": "6cc8f484",
   "metadata": {},
   "outputs": [],
   "source": []
  },
  {
   "cell_type": "code",
   "execution_count": null,
   "id": "5f13c7ab",
   "metadata": {},
   "outputs": [],
   "source": []
  },
  {
   "cell_type": "code",
   "execution_count": null,
   "id": "92782d70",
   "metadata": {},
   "outputs": [],
   "source": []
  },
  {
   "cell_type": "code",
   "execution_count": null,
   "id": "141d74ea",
   "metadata": {},
   "outputs": [],
   "source": []
  }
 ],
 "metadata": {
  "kernelspec": {
   "display_name": "Python 3 (ipykernel)",
   "language": "python",
   "name": "python3"
  },
  "language_info": {
   "codemirror_mode": {
    "name": "ipython",
    "version": 3
   },
   "file_extension": ".py",
   "mimetype": "text/x-python",
   "name": "python",
   "nbconvert_exporter": "python",
   "pygments_lexer": "ipython3",
   "version": "3.11.9"
  },
  "toc": {
   "base_numbering": 1,
   "nav_menu": {},
   "number_sections": true,
   "sideBar": false,
   "skip_h1_title": false,
   "title_cell": "Table of Contents",
   "title_sidebar": "Contents",
   "toc_cell": false,
   "toc_position": {},
   "toc_section_display": true,
   "toc_window_display": false
  }
 },
 "nbformat": 4,
 "nbformat_minor": 5
}
