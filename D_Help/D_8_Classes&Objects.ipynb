{
 "cells": [
  {
   "cell_type": "markdown",
   "id": "81344201",
   "metadata": {},
   "source": [
    "#### Step 1"
   ]
  },
  {
   "cell_type": "code",
   "execution_count": 1,
   "id": "0148d9f2",
   "metadata": {},
   "outputs": [],
   "source": [
    "class Person:\n",
    "    def __init__(self):\n",
    "        print('Hello World!')"
   ]
  },
  {
   "cell_type": "code",
   "execution_count": 2,
   "id": "8fc6b33d",
   "metadata": {},
   "outputs": [
    {
     "name": "stdout",
     "output_type": "stream",
     "text": [
      "Hello World!\n"
     ]
    }
   ],
   "source": [
    "x = Person()"
   ]
  },
  {
   "cell_type": "markdown",
   "id": "bee7d336",
   "metadata": {},
   "source": [
    "#### Step 2"
   ]
  },
  {
   "cell_type": "code",
   "execution_count": 3,
   "id": "b2257aae",
   "metadata": {},
   "outputs": [],
   "source": [
    "class Person:\n",
    "    def __init__(self):\n",
    "        self.name = 'Mike'\n",
    "        self.age = 28"
   ]
  },
  {
   "cell_type": "code",
   "execution_count": 5,
   "id": "0974326d",
   "metadata": {},
   "outputs": [
    {
     "name": "stdout",
     "output_type": "stream",
     "text": [
      "Mike\n",
      "28\n"
     ]
    }
   ],
   "source": [
    "person1 = Person()\n",
    "print(person1.name)\n",
    "print(person1.age)"
   ]
  },
  {
   "cell_type": "markdown",
   "id": "64e6eb3c",
   "metadata": {},
   "source": [
    "#### Step 3"
   ]
  },
  {
   "cell_type": "code",
   "execution_count": 6,
   "id": "2b0de57c",
   "metadata": {},
   "outputs": [],
   "source": [
    "class Person:\n",
    "    def __init__(self, name, age, height):\n",
    "        self.name = name\n",
    "        self.age = age\n",
    "        self.height = height"
   ]
  },
  {
   "cell_type": "code",
   "execution_count": 7,
   "id": "6bcfc2e1",
   "metadata": {},
   "outputs": [
    {
     "name": "stdout",
     "output_type": "stream",
     "text": [
      "Mike\n",
      "30\n",
      "180\n"
     ]
    }
   ],
   "source": [
    "person1 = Person('Mike', 30, 180)\n",
    "print(person1.name)\n",
    "print(person1.age)\n",
    "print(person1.height)"
   ]
  },
  {
   "cell_type": "code",
   "execution_count": 8,
   "id": "d89345be",
   "metadata": {},
   "outputs": [
    {
     "name": "stdout",
     "output_type": "stream",
     "text": [
      "Henry\n"
     ]
    }
   ],
   "source": [
    "person1.name = 'Henry'\n",
    "print(person1.name)"
   ]
  },
  {
   "cell_type": "markdown",
   "id": "6819e7cc",
   "metadata": {},
   "source": [
    "#### Step 4"
   ]
  },
  {
   "cell_type": "code",
   "execution_count": 9,
   "id": "c0bbc6e5",
   "metadata": {},
   "outputs": [],
   "source": [
    "class Person:\n",
    "    def __init__(self, name, age, height):\n",
    "        self.name = name\n",
    "        self.age = age\n",
    "        self.height = height\n",
    "    \n",
    "    def __str__(self):\n",
    "        return 'Name: {}, Age: {}, Height: {}'.format(self.name, self.age, self.height)"
   ]
  },
  {
   "cell_type": "code",
   "execution_count": 11,
   "id": "5fc90a71",
   "metadata": {},
   "outputs": [
    {
     "name": "stdout",
     "output_type": "stream",
     "text": [
      "Name: Mike, Age: 30, Height: 180\n"
     ]
    }
   ],
   "source": [
    "person1 = Person('Mike', 30, 180)\n",
    "print(person1)"
   ]
  },
  {
   "cell_type": "code",
   "execution_count": 12,
   "id": "4cb9ba1f",
   "metadata": {},
   "outputs": [
    {
     "name": "stdout",
     "output_type": "stream",
     "text": [
      "Mike\n",
      "30\n",
      "180\n"
     ]
    }
   ],
   "source": [
    "print(person1.name)\n",
    "print(person1.age)\n",
    "print(person1.height)"
   ]
  },
  {
   "cell_type": "markdown",
   "id": "67df28f4",
   "metadata": {},
   "source": [
    "#### Step 5"
   ]
  },
  {
   "cell_type": "code",
   "execution_count": 13,
   "id": "8803681e",
   "metadata": {},
   "outputs": [],
   "source": [
    "class Person:\n",
    "    amount = 0\n",
    "    def __init__(self, name, age, height):\n",
    "        self.name = name\n",
    "        self.age = age\n",
    "        self.height = height\n",
    "        Person.amount += 1\n",
    "        \n",
    "    def __del__(self):\n",
    "        Person.amount -= 1\n",
    "    \n",
    "    def __str__(self):\n",
    "        return 'Name: {}, Age: {}, Height: {}'.format(self.name, self.age, self.height)\n",
    "    \n",
    "    def get_older(years):\n",
    "        self.age += years"
   ]
  },
  {
   "cell_type": "code",
   "execution_count": 19,
   "id": "8d8d3c3c",
   "metadata": {},
   "outputs": [
    {
     "name": "stdout",
     "output_type": "stream",
     "text": [
      "Name: Mike, Age: 30, Height: 180\n",
      "1\n",
      "Name: Mike, Age: 30, Height: 180\n",
      "2\n"
     ]
    }
   ],
   "source": [
    "person1 = Person('Mike', 30, 180)\n",
    "print(person1)\n",
    "print(Person.amount)\n",
    "\n",
    "person2 = Person('Sarah', 50, 170)\n",
    "print(person1)\n",
    "print(Person.amount)"
   ]
  },
  {
   "cell_type": "markdown",
   "id": "c5dfd032",
   "metadata": {},
   "source": [
    "#### Step 6 ('inheritance')"
   ]
  },
  {
   "cell_type": "code",
   "execution_count": 20,
   "id": "1b207b1d",
   "metadata": {},
   "outputs": [],
   "source": [
    "class Person:\n",
    "    def __init__(self, name, age, height):\n",
    "        self.name = name\n",
    "        self.age = age\n",
    "        self.height = height\n",
    "    \n",
    "    def __str__(self):\n",
    "        return 'Name: {}, Age: {}, Height: {}'.format(self.name, self.age, self.height)\n",
    "    \n",
    "    def get_older(years):\n",
    "        self.age += years\n",
    "        \n",
    "class Worker(Person):\n",
    "    def __init__(self, name, age, height, salary):\n",
    "        super(Worker, self).__init__(name, age, height)\n",
    "        self.salary = salary\n",
    "        \n",
    "    def calc_yearly_salary(self):\n",
    "        return self.salary * 12"
   ]
  },
  {
   "cell_type": "code",
   "execution_count": 21,
   "id": "a536ac57",
   "metadata": {},
   "outputs": [
    {
     "name": "stdout",
     "output_type": "stream",
     "text": [
      "Name: Henry, Age: 40, Height: 176\n",
      "36000\n"
     ]
    }
   ],
   "source": [
    "worker1 = Worker('Henry', 40, 176, 3000)\n",
    "print(worker1)\n",
    "print(worker1.calc_yearly_salary())"
   ]
  },
  {
   "cell_type": "markdown",
   "id": "5562d00b",
   "metadata": {},
   "source": [
    "#### Step 7"
   ]
  },
  {
   "cell_type": "code",
   "execution_count": 25,
   "id": "e7d0f46b",
   "metadata": {},
   "outputs": [],
   "source": [
    "class Person:\n",
    "    def __init__(self, name, age, height):\n",
    "        self.name = name\n",
    "        self.age = age\n",
    "        self.height = height\n",
    "    \n",
    "    def __str__(self):\n",
    "        return 'Name: {}, Age: {}, Height: {}'.format(self.name, self.age, self.height)\n",
    "    \n",
    "    def get_older(years):\n",
    "        self.age += years\n",
    "        \n",
    "class Worker(Person):\n",
    "    def __init__(self, name, age, height, salary):\n",
    "        super(Worker, self).__init__(name, age, height)\n",
    "        self.salary = salary\n",
    "    \n",
    "    def __str__(self):\n",
    "        text = super(Worker, self).__str__()\n",
    "        text += ', Salary: {}'.format(self.salary)\n",
    "        return text \n",
    "    \n",
    "    def calc_yearly_salary(self):\n",
    "        return self.salary * 12"
   ]
  },
  {
   "cell_type": "code",
   "execution_count": 26,
   "id": "ceb2d4d5",
   "metadata": {},
   "outputs": [
    {
     "name": "stdout",
     "output_type": "stream",
     "text": [
      "Name: Henry, Age: 40, Height: 176, Salary: 3000\n"
     ]
    }
   ],
   "source": [
    "worker1 = Worker('Henry', 40, 176, 3000)\n",
    "print(worker1)"
   ]
  },
  {
   "cell_type": "markdown",
   "id": "8ca59779",
   "metadata": {},
   "source": [
    "#### Step 8 ('Operator Overloading')"
   ]
  },
  {
   "cell_type": "code",
   "execution_count": 27,
   "id": "c7a9df7b",
   "metadata": {},
   "outputs": [],
   "source": [
    "class Vector:\n",
    "    \n",
    "    def __init__(self, x, y):\n",
    "        self.x = x\n",
    "        self.y = y\n",
    "        \n",
    "    def __add__(self, other):\n",
    "        return Vector(self.x + other.x, self.y + other.y)\n",
    "    \n",
    "    def __sub__(self, other):\n",
    "        return Vector(self.x - other.x, self.y - other.y)\n",
    "    \n",
    "    def __str__(self):\n",
    "        return 'X: {}, Y: {}'.format(self.x, self.y)       "
   ]
  },
  {
   "cell_type": "code",
   "execution_count": 29,
   "id": "3f3c608f",
   "metadata": {},
   "outputs": [
    {
     "name": "stdout",
     "output_type": "stream",
     "text": [
      "v1:  X: 2, Y: 5\n",
      "v2:  X: 6, Y: 3\n",
      "v3:  X: 8, Y: 8\n",
      "v4:  X: -4, Y: 2\n"
     ]
    }
   ],
   "source": [
    "v1 = Vector(2, 5)\n",
    "v2 = Vector(6, 3)\n",
    "\n",
    "print('v1: ', v1)\n",
    "print('v2: ', v2)\n",
    "\n",
    "v3 = v1 + v2\n",
    "\n",
    "print('v3: ', v3)\n",
    "\n",
    "v4 = v1 - v2\n",
    "\n",
    "print('v4: ', v4)"
   ]
  }
 ],
 "metadata": {
  "kernelspec": {
   "display_name": "Python 3 (ipykernel)",
   "language": "python",
   "name": "python3"
  },
  "language_info": {
   "codemirror_mode": {
    "name": "ipython",
    "version": 3
   },
   "file_extension": ".py",
   "mimetype": "text/x-python",
   "name": "python",
   "nbconvert_exporter": "python",
   "pygments_lexer": "ipython3",
   "version": "3.11.5"
  }
 },
 "nbformat": 4,
 "nbformat_minor": 5
}
