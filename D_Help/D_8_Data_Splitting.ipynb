{
 "cells": [
  {
   "cell_type": "markdown",
   "id": "0ad413a2",
   "metadata": {},
   "source": [
    "### 1 - Splitting into Training, Validation, and Test Sets"
   ]
  },
  {
   "cell_type": "markdown",
   "id": "abf4946f",
   "metadata": {},
   "source": [
    "📌 Splitting data into subsets for model training, tuning, and evaluation."
   ]
  },
  {
   "cell_type": "markdown",
   "id": "882a5d5f",
   "metadata": {},
   "source": [
    "### 2 - Cross-Validation"
   ]
  },
  {
   "cell_type": "markdown",
   "id": "238a5292",
   "metadata": {},
   "source": [
    "📌 Splitting data into multiple subsets and iteratively using each subset for training and validation."
   ]
  }
 ],
 "metadata": {
  "kernelspec": {
   "display_name": "Python 3 (ipykernel)",
   "language": "python",
   "name": "python3"
  },
  "language_info": {
   "codemirror_mode": {
    "name": "ipython",
    "version": 3
   },
   "file_extension": ".py",
   "mimetype": "text/x-python",
   "name": "python",
   "nbconvert_exporter": "python",
   "pygments_lexer": "ipython3",
   "version": "3.11.5"
  }
 },
 "nbformat": 4,
 "nbformat_minor": 5
}
